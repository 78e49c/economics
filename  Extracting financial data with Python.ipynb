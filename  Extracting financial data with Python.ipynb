{
 "cells": [
  {
   "cell_type": "markdown",
   "id": "f5682e8d",
   "metadata": {},
   "source": [
    "## Basics of yfinance"
   ]
  },
  {
   "cell_type": "markdown",
   "id": "f2113978",
   "metadata": {},
   "source": [
    "### Setup"
   ]
  },
  {
   "cell_type": "code",
   "execution_count": null,
   "id": "57932151",
   "metadata": {},
   "outputs": [],
   "source": [
    "pip install yfinance"
   ]
  },
  {
   "cell_type": "code",
   "execution_count": 42,
   "id": "c5a4edec",
   "metadata": {},
   "outputs": [],
   "source": [
    "import yfinance as yf"
   ]
  },
  {
   "cell_type": "markdown",
   "id": "4a8aaea1",
   "metadata": {},
   "source": [
    "### Parameters"
   ]
  },
  {
   "cell_type": "markdown",
   "id": "8022deda",
   "metadata": {},
   "source": [
    "#### Periods \n",
    "1d, 1mo, 1y"
   ]
  },
  {
   "cell_type": "markdown",
   "id": "c37aea48",
   "metadata": {},
   "source": [
    "#### Intervals\n",
    "1m, 5m, 15m, 60m, 1h, 1d, 1wk, 1mo"
   ]
  },
  {
   "cell_type": "markdown",
   "id": "5d81f68e",
   "metadata": {},
   "source": [
    "### Examples"
   ]
  },
  {
   "cell_type": "markdown",
   "id": "a49b0724",
   "metadata": {},
   "source": [
    "İş Bankasının son 6 ayının günlük fiyat verilerini indirmek için"
   ]
  },
  {
   "cell_type": "code",
   "execution_count": null,
   "id": "9ac5394e",
   "metadata": {},
   "outputs": [],
   "source": [
    "data = yf.download(\"ISCTR.IS\", period=\"6mo\")"
   ]
  },
  {
   "cell_type": "markdown",
   "id": "178bf4a7",
   "metadata": {},
   "source": [
    "İş Bankasının son 1 ayının her 5 dakikada bir fiyat verilerini indirmek için"
   ]
  },
  {
   "cell_type": "code",
   "execution_count": null,
   "id": "6c78afab",
   "metadata": {},
   "outputs": [],
   "source": [
    "data = yf.download(\"ISCTR.IS\", period='1mo', interval=\"5m\")"
   ]
  },
  {
   "cell_type": "markdown",
   "id": "b8d62f08",
   "metadata": {},
   "source": [
    "İş Bankasının 2017 yılının tümü için günlük fiyat verilerini indirmek için"
   ]
  },
  {
   "cell_type": "code",
   "execution_count": null,
   "id": "0e3128d0",
   "metadata": {},
   "outputs": [],
   "source": [
    "data = yf.download(\"ISCTR.IS\", start=\"2017-01-01\", end=\"2017-12-31\")"
   ]
  },
  {
   "cell_type": "markdown",
   "id": "adcb6096",
   "metadata": {},
   "source": [
    "İş Bankasının 2017 yılının tümü için haftalık fiyat verilerini indirmek için"
   ]
  },
  {
   "cell_type": "code",
   "execution_count": null,
   "id": "1cc670a7",
   "metadata": {},
   "outputs": [],
   "source": [
    "data = yf.download(\"ISCTR.IS\", start=\"2017-01-01\", end=\"2017-12-31\", interval=\"1wk"
   ]
  },
  {
   "cell_type": "markdown",
   "id": "25f5287c",
   "metadata": {},
   "source": [
    "## Multiple stocks"
   ]
  },
  {
   "cell_type": "markdown",
   "id": "05fd0e83",
   "metadata": {},
   "source": [
    "### Setup"
   ]
  },
  {
   "cell_type": "code",
   "execution_count": 45,
   "id": "899f76d5",
   "metadata": {},
   "outputs": [],
   "source": [
    "import datetime"
   ]
  },
  {
   "cell_type": "code",
   "execution_count": 47,
   "id": "4dd35a6f",
   "metadata": {},
   "outputs": [],
   "source": [
    "import pandas as pd"
   ]
  },
  {
   "cell_type": "markdown",
   "id": "1c5dc8f2",
   "metadata": {},
   "source": [
    "Hisse senetleri"
   ]
  },
  {
   "cell_type": "code",
   "execution_count": 35,
   "id": "8fd739af",
   "metadata": {},
   "outputs": [],
   "source": [
    "stocks = [\"ISCTR.IS\", \"TCELL.IS\", \"TUPRS.IS\", \"GARAN.IS\", \"EREGL.IS\"]"
   ]
  },
  {
   "cell_type": "markdown",
   "id": "28472961",
   "metadata": {},
   "source": [
    "Zaman aralığı (son 30 gün)"
   ]
  },
  {
   "cell_type": "code",
   "execution_count": 36,
   "id": "9a4e292c",
   "metadata": {},
   "outputs": [],
   "source": [
    "start = datetime.datetime.today() - datetime.timedelta(30)\n",
    "end = datetime.datetime.today()"
   ]
  },
  {
   "cell_type": "markdown",
   "id": "43c11078",
   "metadata": {},
   "source": [
    "### Daily Closing Prices (DataFrame)"
   ]
  },
  {
   "cell_type": "markdown",
   "id": "a575e536",
   "metadata": {},
   "source": [
    "Boş bir DataFrame oluşturuyor ve for döngüsü, her hisse senedi için yf.download() kullanarak belirtilen tarih aralığındaki günlük kapanış fiyatlarını alıyor ve oluşturulan DataFrame'e sütun olarak ekliyor. \n",
    "Böylece cl_price adında bir DataFrame oluşturuluyor ve her hisse senedinin kapanış fiyatları bu DataFrame'de saklanıyor"
   ]
  },
  {
   "cell_type": "code",
   "execution_count": null,
   "id": "e28414bf",
   "metadata": {},
   "outputs": [],
   "source": [
    "cl_price = pd.DataFrame()\n",
    "for ticker in stocks:\n",
    "    cl_price[ticker] = yf.download(ticker, start, end)[\"Close\"]"
   ]
  },
  {
   "cell_type": "code",
   "execution_count": 38,
   "id": "e9172f27",
   "metadata": {},
   "outputs": [
    {
     "name": "stdout",
     "output_type": "stream",
     "text": [
      "             ISCTR.IS   TCELL.IS    TUPRS.IS   GARAN.IS   EREGL.IS\n",
      "Date                                                              \n",
      "2023-11-17  20.540001  56.650002  153.500000  47.419998  38.279999\n",
      "2023-11-20  20.820000  57.349998  153.600006  48.639999  39.599998\n",
      "2023-11-21  21.299999  57.500000  154.500000  49.040001  41.099998\n",
      "2023-11-22  21.200001  57.500000  155.600006  49.439999  40.740002\n",
      "2023-11-23  21.139999  57.299999  149.899994  50.250000  39.340000\n",
      "2023-11-24  21.260000  58.049999  150.500000  51.650002  40.459999\n",
      "2023-11-27  22.480000  58.650002  156.000000  54.750000  41.279999\n",
      "2023-11-28  22.160000  58.849998  156.000000  54.500000  41.060001\n",
      "2023-11-29  21.940001  57.250000  154.899994  54.250000  41.220001\n",
      "2023-11-30  21.440001  57.849998  152.899994  54.049999  40.959999\n",
      "2023-12-01  22.059999  58.500000  153.300003  56.450001  40.599998\n",
      "2023-12-04  22.680000  57.599998  154.100006  57.900002  40.020000\n",
      "2023-12-05  22.400000  57.900002  154.800003  58.450001  40.000000\n",
      "2023-12-06  22.660000  57.700001  149.899994  60.000000  38.799999\n",
      "2023-12-07  22.440001  58.000000  155.000000  59.400002  39.900002\n",
      "2023-12-08  22.260000  58.500000  152.600006  57.700001  39.340000\n",
      "2023-12-11  21.940001  58.000000  148.800003  56.450001  38.500000\n",
      "2023-12-12  22.420000  55.700001  147.000000  59.400002  38.400002\n",
      "2023-12-13  22.320000  52.200001  144.100006  58.900002  37.759998\n",
      "2023-12-14  24.020000  55.900002  151.699997  62.500000  39.180000\n",
      "2023-12-15  24.379999  56.599998  151.199997  62.049999  41.900002\n"
     ]
    }
   ],
   "source": [
    "print(cl_price)"
   ]
  },
  {
   "cell_type": "markdown",
   "id": "57302886",
   "metadata": {},
   "source": [
    "### Open high low close volume (DataFrame array)"
   ]
  },
  {
   "cell_type": "markdown",
   "id": "6b52ca78",
   "metadata": {},
   "source": [
    "Bu for döngüsü aynı hisse senetleri için open high low close volume  verilerini indiriyor ve her hisse senedinin verilerini ayrı ayrı, ohlcv_data (dictionary) içine yerleştiriyor.\n",
    "\n",
    "ohlcv_data'da anahtar-değer çiftleri biçiminde veri saklanır. \n",
    "Bu durumda, her ticker bir anahtar olarak kullanılır ve karşılık gelen değer, yf.download() ile alınan OHLCV verileri olan bir DataFrame'dir. "
   ]
  },
  {
   "cell_type": "code",
   "execution_count": null,
   "id": "526809dc",
   "metadata": {},
   "outputs": [],
   "source": [
    "ohlcv_data = {}\n",
    "for ticker in stocks:\n",
    "    ohlcv_data[ticker] = yf.download(ticker,start,end)"
   ]
  },
  {
   "cell_type": "code",
   "execution_count": 40,
   "id": "df05c446",
   "metadata": {},
   "outputs": [
    {
     "name": "stdout",
     "output_type": "stream",
     "text": [
      "                 Open       High        Low      Close  Adj Close     Volume\n",
      "Date                                                                        \n",
      "2023-11-17  20.520000  20.660000  20.440001  20.540001  20.540001   88900901\n",
      "2023-11-20  20.760000  21.059999  20.680000  20.820000  20.820000  118412576\n",
      "2023-11-21  20.980000  21.299999  20.660000  21.299999  21.299999  117664562\n",
      "2023-11-22  21.299999  21.459999  21.120001  21.200001  21.200001  112334254\n",
      "2023-11-23  21.180000  21.860001  21.059999  21.139999  21.139999  289352200\n",
      "2023-11-24  21.180000  21.520000  20.820000  21.260000  21.260000  170121497\n",
      "2023-11-27  21.980000  22.680000  21.660000  22.480000  22.480000  327098681\n",
      "2023-11-28  22.379999  22.580000  22.020000  22.160000  22.160000  182428995\n",
      "2023-11-29  22.200001  22.280001  21.780001  21.940001  21.940001  134594736\n",
      "2023-11-30  21.940001  22.480000  21.440001  21.440001  21.440001  171503766\n",
      "2023-12-01  22.100000  22.400000  21.840000  22.059999  22.059999  168574790\n",
      "2023-12-04  22.139999  22.740000  21.840000  22.680000  22.680000  178301887\n",
      "2023-12-05  22.680000  22.820000  22.400000  22.400000  22.400000  132705833\n",
      "2023-12-06  22.400000  23.219999  22.400000  22.660000  22.660000  272903191\n",
      "2023-12-07  22.639999  22.700001  21.879999  22.440001  22.440001  136508235\n",
      "2023-12-08  22.559999  22.740000  22.139999  22.260000  22.260000  133303958\n",
      "2023-12-11  22.260000  22.440001  21.900000  21.940001  21.940001  134650111\n",
      "2023-12-12  21.959999  22.700001  21.900000  22.420000  22.420000  246742821\n",
      "2023-12-13  22.360001  23.059999  22.280001  22.320000  22.320000  221221667\n",
      "2023-12-14  22.760000  24.040001  22.620001  24.020000  24.020000  240618029\n",
      "2023-12-15  24.020000  25.219999  23.860001  24.379999  24.379999  259961751\n"
     ]
    }
   ],
   "source": [
    "print(ohlcv_data[\"ISCTR.IS\"])"
   ]
  },
  {
   "cell_type": "markdown",
   "id": "d5e75814",
   "metadata": {},
   "source": [
    "## Web Scraping"
   ]
  },
  {
   "cell_type": "markdown",
   "id": "23c26819",
   "metadata": {},
   "source": [
    "### Setup"
   ]
  },
  {
   "cell_type": "code",
   "execution_count": 48,
   "id": "a388e375",
   "metadata": {},
   "outputs": [],
   "source": [
    "import requests\n",
    "from bs4 import BeautifulSoup"
   ]
  },
  {
   "cell_type": "markdown",
   "id": "b97f7df3",
   "metadata": {},
   "source": [
    "Yahoo Finans'tan İş Bankasının gelir tablosunu çekmek için "
   ]
  },
  {
   "cell_type": "code",
   "execution_count": 52,
   "id": "9ee189c2",
   "metadata": {},
   "outputs": [],
   "source": [
    "income_statement = {}\n",
    "\n",
    "url = \"https://finance.yahoo.com/quote/ISCTR.IS/financials?p=ISCTR.IS\"\n",
    "\n",
    "headers = {\"User-Agent\" : \"Chrome/96.0.4664.110\"}\n",
    "page = requests.get(url, headers=headers)\n",
    "page_content = page.content\n",
    "soup = BeautifulSoup(page_content,\"html.parser\")\n",
    "tabl = soup.find_all(\"div\" , {\"class\" : \"M(0) Whs(n) BdEnd Bdc($seperatorColor) D(itb)\"})\n",
    "for t in tabl:\n",
    "    rows = t.find_all(\"div\" , {\"class\": \"D(tbr) fi-row Bgc($hoverBgColor):h\"})\n",
    "    for row in rows:\n",
    "        income_statement[row.get_text(separator=\"|\").split(\"|\")[0]] = row.get_text(separator=\"|\").split(\"|\")[1]\n"
   ]
  },
  {
   "cell_type": "code",
   "execution_count": 53,
   "id": "3bc34cfc",
   "metadata": {},
   "outputs": [
    {
     "name": "stdout",
     "output_type": "stream",
     "text": [
      "223,668,427\n"
     ]
    }
   ],
   "source": [
    "print(income_statement[\"Total Revenue\"])"
   ]
  },
  {
   "cell_type": "code",
   "execution_count": 56,
   "id": "2e958e5a",
   "metadata": {},
   "outputs": [
    {
     "name": "stdout",
     "output_type": "stream",
     "text": [
      "Total Revenue : 223,668,427\n",
      "Income from Associates & Other Participating Interests : 10,818,866\n",
      "Special Income Charges : -52,898\n",
      "Other Non Operating Income Expenses : -\n",
      "Pretax Income : 110,837,664\n",
      "Tax Provision : 20,817,909\n",
      "Net Income Common Stockholders : 75,479,718\n",
      "Diluted NI Available to Com Stockholders : 75,479,718\n",
      "Basic EPS : 6.16\n",
      "Diluted EPS : 6.16\n",
      "Basic Average Shares : 10,006,438\n",
      "Diluted Average Shares : 10,006,438\n",
      "Net Income from Continuing & Discontinued Operation : 75,479,718\n",
      "Normalized Income : 75,522,681\n",
      "Reconciled Depreciation : 3,046,183\n",
      "Net Income from Continuing Operation Net Minority Interest : 75,479,718\n",
      "Total Unusual Items Excluding Goodwill : -52,898\n",
      "Total Unusual Items : -52,898\n",
      "Tax Rate for Calcs : 0\n",
      "Tax Effect of Unusual Items : -9,935\n"
     ]
    }
   ],
   "source": [
    "for key, value in income_statement.items():\n",
    "    print(key + \" : \" + value)"
   ]
  }
 ],
 "metadata": {
  "kernelspec": {
   "display_name": "Python 3 (ipykernel)",
   "language": "python",
   "name": "python3"
  },
  "language_info": {
   "codemirror_mode": {
    "name": "ipython",
    "version": 3
   },
   "file_extension": ".py",
   "mimetype": "text/x-python",
   "name": "python",
   "nbconvert_exporter": "python",
   "pygments_lexer": "ipython3",
   "version": "3.11.5"
  }
 },
 "nbformat": 4,
 "nbformat_minor": 5
}
